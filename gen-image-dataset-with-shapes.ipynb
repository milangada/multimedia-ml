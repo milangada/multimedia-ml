{
 "cells": [
  {
   "cell_type": "markdown",
   "metadata": {},
   "source": [
    "# Generate image dataset with shapes\n",
    "\n",
    "This notebook provides code to generate a synthetic image dataset with various shapes in them. We can use this dataset as input to a CNN. There are a few different kinds of datasets covered.\n"
   ]
  },
  {
   "cell_type": "markdown",
   "metadata": {},
   "source": [
    "## Defining shapes and minimum dimensions\n",
    "\n",
    "We will generate images with different kinds of shapes. Each shape will have a minimum width/length and each shape will be at least some pixels away from the image edges"
   ]
  },
  {
   "cell_type": "code",
   "execution_count": 5,
   "metadata": {
    "collapsed": false
   },
   "outputs": [],
   "source": [
    "import os\n",
    "from PIL import Image, ImageDraw\n",
    "from random import randint\n",
    "import numpy as np\n",
    "import math\n",
    "\n",
    "import matplotlib.image as mpimg\n",
    "import matplotlib.pyplot as plt\n",
    "\n",
    "%matplotlib inline\n",
    "\n",
    "\n",
    "IMG_PADDING = 2\n",
    "SHAPE_MIN_DIMENSION = 20"
   ]
  },
  {
   "cell_type": "markdown",
   "metadata": {},
   "source": [
    "## Helper function to save images\n",
    "\n",
    "This is a helper function that simply saves the image at the provided file location"
   ]
  },
  {
   "cell_type": "code",
   "execution_count": 3,
   "metadata": {
    "collapsed": true
   },
   "outputs": [],
   "source": [
    "def saveimg(filename, img):\n",
    "    if not os.path.isfile(filename):\n",
    "        #print(\"Saving\", filename )\n",
    "        img.save(filename)\n",
    "    else:\n",
    "        print(\"File already exists\", filename)"
   ]
  },
  {
   "cell_type": "markdown",
   "metadata": {},
   "source": [
    "## Helper functions to generate images with various shapes and save them\n",
    "\n",
    "The function below generates an image of specified width and height and background color. The image includes a shape (also passed as a function parameter) with the provided color. The dimensions of the shape are randomly generated."
   ]
  },
  {
   "cell_type": "code",
   "execution_count": 4,
   "metadata": {
    "collapsed": true
   },
   "outputs": [],
   "source": [
    "def genImageWithEllipse(imgFileName, frame_width, frame_height, img_type, backColor, fillColor):\n",
    "   \n",
    "    # draw the shape and save it to file\n",
    "    img = Image.new(img_type, (frame_width, frame_height), backColor)    \n",
    "   \n",
    "    draw = ImageDraw.Draw(img)          \n",
    "\n",
    "    x1 = randint(IMG_PADDING, frame_width - SHAPE_MIN_DIMENSION - IMG_PADDING)\n",
    "    y1 = randint(IMG_PADDING, frame_height - SHAPE_MIN_DIMENSION - IMG_PADDING)\n",
    "\n",
    "    # calculate cooridnate for an ellipse\n",
    "    x2 = randint(x1 + SHAPE_MIN_DIMENSION, frame_width - IMG_PADDING)                \n",
    "    y2 = randint(y1 + SHAPE_MIN_DIMENSION, frame_height - IMG_PADDING)\n",
    "    \n",
    "    draw.ellipse((x1, y1, x2, y2), fill = fillColor)     \n",
    "\n",
    "    saveimg(imgFileName, img)          "
   ]
  },
  {
   "cell_type": "code",
   "execution_count": 5,
   "metadata": {
    "collapsed": true
   },
   "outputs": [],
   "source": [
    "def genImageWithRectangle(imgFileName, frame_width, frame_height, img_type, backColor, fillColor):\n",
    "    \n",
    "    # draw the shape and save it to file\n",
    "    img = Image.new(img_type, (frame_width, frame_height), backColor)    \n",
    "    draw = ImageDraw.Draw(img)          \n",
    "\n",
    "    x1 = randint(IMG_PADDING, frame_width - SHAPE_MIN_DIMENSION - IMG_PADDING)\n",
    "    y1 = randint(IMG_PADDING, frame_height - SHAPE_MIN_DIMENSION - IMG_PADDING)\n",
    "\n",
    "    # calculate cooridnate for a rectangle\n",
    "    x2 = randint(x1 + SHAPE_MIN_DIMENSION, frame_width - IMG_PADDING)                \n",
    "    y2 = randint(y1 + SHAPE_MIN_DIMENSION, frame_height - IMG_PADDING)\n",
    "    \n",
    "    draw.rectangle((x1, y1, x2, y2), fill = fillColor)     \n",
    "\n",
    "    saveimg(imgFileName, img)     "
   ]
  },
  {
   "cell_type": "code",
   "execution_count": 6,
   "metadata": {
    "collapsed": true
   },
   "outputs": [],
   "source": [
    "def genImageWithTriangle(imgFileName, frame_width, frame_height, img_type, backColor, fillColor):\n",
    "    \n",
    "    # draw the shape and save it to file\n",
    "    img = Image.new(img_type, (frame_width, frame_height), backColor)    \n",
    "    draw = ImageDraw.Draw(img)          \n",
    "\n",
    "    x1 = randint(IMG_PADDING, frame_width - SHAPE_MIN_DIMENSION - IMG_PADDING)\n",
    "    y1 = randint(SHAPE_MIN_DIMENSION + IMG_PADDING, frame_height - IMG_PADDING)\n",
    "\n",
    "    \n",
    "    x2 = randint(x1 + SHAPE_MIN_DIMENSION, frame_width - IMG_PADDING)                \n",
    "    y2 = y1\n",
    "    \n",
    "    x3 = randint(x1, x2)\n",
    "    y3 = randint(IMG_PADDING, y1 - SHAPE_MIN_DIMENSION)\n",
    "    \n",
    "    draw.polygon([(x1,y1), (x2,y2), (x3,y3)], fill = fillColor)    \n",
    "\n",
    "    saveimg(imgFileName, img)   "
   ]
  },
  {
   "cell_type": "markdown",
   "metadata": {},
   "source": [
    "## Helper function to generate a black and white image\n",
    "\n",
    "The function below generates a black and white image. It randomly selects the background color to be black or white and then selects the other color as the shape fill color."
   ]
  },
  {
   "cell_type": "code",
   "execution_count": 7,
   "metadata": {
    "collapsed": true
   },
   "outputs": [],
   "source": [
    "def genColorsForBWImage():\n",
    "    \n",
    "    backColor = randint(0, 1)        \n",
    "    fillColor = 0\n",
    "\n",
    "    if (backColor == 0):\n",
    "        fillColor = 255\n",
    "    else:\n",
    "        backColor = 255\n",
    "        \n",
    "    return backColor, fillColor"
   ]
  },
  {
   "cell_type": "markdown",
   "metadata": {},
   "source": [
    "## Helper function to generate a grayscale image\n",
    "\n",
    "The function below generates a grayscale image. It randomly selects the background color and the color of the shape"
   ]
  },
  {
   "cell_type": "code",
   "execution_count": 8,
   "metadata": {
    "collapsed": true
   },
   "outputs": [],
   "source": [
    "def genColorsForGrayscaleImage():\n",
    "    \n",
    "    backColor = randint(0, 255)        \n",
    "    fillColor = randint(0, 255)\n",
    "    \n",
    "    return backColor, fillColor"
   ]
  },
  {
   "cell_type": "markdown",
   "metadata": {},
   "source": [
    "## Helper function to generate a RGB image\n",
    "\n",
    "This function generated a RGB image by generating a random background and shape fill color"
   ]
  },
  {
   "cell_type": "code",
   "execution_count": 9,
   "metadata": {
    "collapsed": false
   },
   "outputs": [],
   "source": [
    "def genColorsForRGBImage():\n",
    "            \n",
    "    r = randint(0, 255)\n",
    "    g = randint(0, 255)\n",
    "    b = randint(0, 255)        \n",
    "\n",
    "    fr = randint(0, 255)\n",
    "    fg = randint(0, 255)\n",
    "    fb = randint(0, 255)      \n",
    "\n",
    "    backColor = (r, g, b)\n",
    "    fillColor = (fr, fg, fb)\n",
    "\n",
    "    return backColor, fillColor\n"
   ]
  },
  {
   "cell_type": "markdown",
   "metadata": {},
   "source": [
    "## Function to generate list of images and the corresponding index file\n",
    "\n",
    "This function generates the specified number of images (of provided type and size) and also an index file. The function generates equal number of images for each of the 4 shapes."
   ]
  },
  {
   "cell_type": "code",
   "execution_count": 18,
   "metadata": {
    "collapsed": false
   },
   "outputs": [],
   "source": [
    "def genImages(dirname, index_filename, frame_width, frame_height, numImages, start_idx, imgType = \"RGB\", print_frequency = 1000):\n",
    "    \n",
    "    f = open(index_filename, \"a+\")\n",
    "\n",
    "    if ((imgType == \"BW\") or (imgType == \"GS\")):        \n",
    "        img_type = 'L'\n",
    "    else:\n",
    "        img_type = 'RGB'\n",
    "    \n",
    "    for i in range(start_idx, numImages + start_idx):\n",
    "        \n",
    "        if ((i % print_frequency) == 0):\n",
    "            print(\"Generating image \" + str(i))                \n",
    "        \n",
    "        imgFileName = dirname + \"/\" + str(i) + \".png\"                    \n",
    "            \n",
    "        backColor = 0\n",
    "        fillColor = 0       \n",
    "            \n",
    "        if (imgType == \"RGB\"):\n",
    "            backColor, fillColor = genColorsForRGBImage()\n",
    "        elif (imgType == \"BW\"):\n",
    "            backColor, fillColor = genColorsForBWImage()\n",
    "        elif (imgType == \"GS\"):\n",
    "            backColor, fillColor = genColorsForGrayscaleImage()\n",
    "                               \n",
    "        s = i % 3\n",
    "        \n",
    "        if (s == 0):\n",
    "            genImageWithEllipse(imgFileName, frame_width, frame_height, img_type, backColor, fillColor)\n",
    "        elif (s == 1):\n",
    "            genImageWithRectangle(imgFileName, frame_width, frame_height, img_type, backColor, fillColor)\n",
    "        elif(s == 2):\n",
    "            genImageWithTriangle(imgFileName, frame_width, frame_height, img_type, backColor, fillColor)\n",
    "                    \n",
    "        f.write(imgFileName + \"\\t\" + str(s) + \"\\n\")\n",
    "        \n",
    "    f.close()   \n",
    "    \n",
    "    print(\"Done generating images\")"
   ]
  },
  {
   "cell_type": "markdown",
   "metadata": {},
   "source": [
    "## Generate images\n",
    "\n",
    "Using the above functions, we can now generate a black & white or grayscale or RGB image dataset."
   ]
  },
  {
   "cell_type": "code",
   "execution_count": 44,
   "metadata": {
    "collapsed": false
   },
   "outputs": [
    {
     "name": "stdout",
     "output_type": "stream",
     "text": [
      "Generating image 0\n",
      "Generating image 1000\n",
      "Generating image 2000\n",
      "Generating image 3000\n",
      "Generating image 4000\n",
      "Generating image 5000\n",
      "Generating image 6000\n",
      "Generating image 7000\n",
      "Generating image 8000\n",
      "Generating image 9000\n",
      "Generating image 10000\n",
      "Generating image 11000\n",
      "Generating image 12000\n",
      "Generating image 13000\n",
      "Generating image 14000\n",
      "Done generating images\n",
      "Generating image 0\n",
      "Generating image 1000\n",
      "Generating image 2000\n",
      "Done generating images\n"
     ]
    }
   ],
   "source": [
    "genImages(\"./train-bw-shapes-dataset\", \"./train-bw-shapes-idx.txt\", 100, 150, 15000, 0, \"BW\")\n",
    "genImages(\"./test-bw-shapes-dataset\", \"./test-bw-shapes-idx.txt\", 100, 150, 3000, 0, \"BW\")"
   ]
  },
  {
   "cell_type": "markdown",
   "metadata": {},
   "source": [
    "### Display image\n",
    "\n",
    "Let's display one of the images over here"
   ]
  },
  {
   "cell_type": "code",
   "execution_count": 7,
   "metadata": {
    "collapsed": false
   },
   "outputs": [
    {
     "data": {
      "image/png": "[encoded data removed]",
      "text/plain": [
       "<matplotlib.figure.Figure at 0x1e7523cf0f0>"
      ]
     },
     "metadata": {},
     "output_type": "display_data"
    }
   ],
   "source": [
    "image = Image.open(\"./train-bw-shapes-dataset/0.png\")\n",
    "arr = np.asarray(image)\n",
    "plt.axis('off')\n",
    "plt.imshow(arr, cmap='gray')\n",
    "plt.show()"
   ]
  },
  {
   "cell_type": "code",
   "execution_count": 13,
   "metadata": {
    "collapsed": false
   },
   "outputs": [
    {
     "name": "stdout",
     "output_type": "stream",
     "text": [
      "Generating image 0\n",
      "Generating image 1000\n",
      "Generating image 2000\n",
      "Generating image 3000\n",
      "Generating image 4000\n",
      "Generating image 5000\n",
      "Generating image 6000\n",
      "Generating image 7000\n",
      "Generating image 8000\n",
      "Generating image 9000\n",
      "Generating image 10000\n",
      "Generating image 11000\n",
      "Generating image 12000\n",
      "Generating image 13000\n",
      "Generating image 14000\n",
      "Done generating images\n",
      "Generating image 0\n",
      "Generating image 1000\n",
      "Generating image 2000\n",
      "Done generating images\n"
     ]
    }
   ],
   "source": [
    "genImages(\"./train-gs-shapes-dataset\", \"./train-gs-shapes-idx.txt\", 100, 150, 15000, 0, \"GS\")\n",
    "genImages(\"./test-gs-shapes-dataset\", \"./test-gs-shapes-idx.txt\", 100, 150, 3000, 0, \"GS\")"
   ]
  },
  {
   "cell_type": "code",
   "execution_count": 17,
   "metadata": {
    "collapsed": false
   },
   "outputs": [
    {
     "name": "stdout",
     "output_type": "stream",
     "text": [
      "Generating image 0\n",
      "Generating image 1000\n",
      "Generating image 2000\n",
      "Generating image 3000\n",
      "Generating image 4000\n",
      "Generating image 5000\n",
      "Generating image 6000\n",
      "Generating image 7000\n",
      "Generating image 8000\n",
      "Generating image 9000\n",
      "Generating image 10000\n",
      "Generating image 11000\n",
      "Generating image 12000\n",
      "Generating image 13000\n",
      "Generating image 14000\n",
      "Done generating images\n",
      "Generating image 0\n",
      "Generating image 1000\n",
      "Generating image 2000\n",
      "Done generating images\n"
     ]
    }
   ],
   "source": [
    "genImages(\"./train-rgb-shapes-dataset\", \"./train-rgb-shapes-idx.txt\", 100, 150, 15000, 0, \"RGB\")\n",
    "genImages(\"./test-rgb-shapes-dataset\", \"./test-rgb-shapes-idx.txt\", 100, 150, 3000, 0, \"RGB\")"
   ]
  },
  {
   "cell_type": "code",
   "execution_count": 19,
   "metadata": {
    "collapsed": false
   },
   "outputs": [
    {
     "name": "stdout",
     "output_type": "stream",
     "text": [
      "Generating image 15000\n",
      "Generating image 16000\n",
      "Generating image 17000\n",
      "Generating image 18000\n",
      "Generating image 19000\n",
      "Generating image 20000\n",
      "Generating image 21000\n",
      "Generating image 22000\n",
      "Generating image 23000\n",
      "Generating image 24000\n",
      "Generating image 25000\n",
      "Generating image 26000\n",
      "Generating image 27000\n",
      "Generating image 28000\n",
      "Generating image 29000\n",
      "Done generating images\n",
      "Generating image 3000\n",
      "Generating image 4000\n",
      "Generating image 5000\n",
      "Done generating images\n"
     ]
    }
   ],
   "source": [
    "genImages(\"./train-rgb-shapes-dataset\", \"./train-rgb-shapes-idx.txt\", 100, 150, 15000, 15000, \"RGB\")\n",
    "genImages(\"./test-rgb-shapes-dataset\", \"./test-rgb-shapes-idx.txt\", 100, 150, 3000, 3000, \"RGB\")"
   ]
  },
  {
   "cell_type": "code",
   "execution_count": null,
   "metadata": {
    "collapsed": true
   },
   "outputs": [],
   "source": []
  }
 ],
 "metadata": {
  "anaconda-cloud": {},
  "kernelspec": {
   "display_name": "Python [Root]",
   "language": "python",
   "name": "Python [Root]"
  },
  "language_info": {
   "codemirror_mode": {
    "name": "ipython",
    "version": 3
   },
   "file_extension": ".py",
   "mimetype": "text/x-python",
   "name": "python",
   "nbconvert_exporter": "python",
   "pygments_lexer": "ipython3",
   "version": "3.5.2"
  }
 },
 "nbformat": 4,
 "nbformat_minor": 0
}
