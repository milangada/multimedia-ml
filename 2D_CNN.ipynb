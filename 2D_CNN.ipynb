{
 "cells": [
  {
   "cell_type": "markdown",
   "metadata": {},
   "source": [
    "# Detecting shape of object in images\n",
    "\n",
    "This notebook covers using Microsoft CNTK to detect shape of an object in an image. We will use a CNN for this purpose.Please read through http://cntk.ai/pythondocs/CNTK_103D_MNIST_ConvolutionalNeuralNetwork.html to understand the basics of building a CNN using CNTK. \n"
   ]
  },
  {
   "cell_type": "code",
   "execution_count": 2,
   "metadata": {
    "collapsed": true
   },
   "outputs": [],
   "source": [
    "from __future__ import print_function # Use a function definition from future version (say 3.x from 2.7 interpreter)\n",
    "import matplotlib.image as mpimg\n",
    "import matplotlib.pyplot as plt\n",
    "import numpy as np\n",
    "import os\n",
    "import sys\n",
    "import time\n",
    "\n",
    "import cntk as C\n",
    "\n",
    "%matplotlib inline\n",
    "\n",
    "from cntk.io import UserMinibatchSource, StreamInformation, MinibatchData, Value\n",
    "from PIL import Image\n",
    "\n",
    "\n",
    "\n",
    "# Ensure we always get the same amount of randomness\n",
    "np.random.seed(0)\n",
    "\n"
   ]
  },
  {
   "cell_type": "markdown",
   "metadata": {},
   "source": [
    "### Global variables\n",
    "\n",
    "Define the global variables"
   ]
  },
  {
   "cell_type": "code",
   "execution_count": 3,
   "metadata": {
    "collapsed": false
   },
   "outputs": [],
   "source": [
    "# Define the data dimensions\n",
    "global input_dim_model \n",
    "global input_dim\n",
    "global num_output_classes\n",
    "\n",
    "global cx \n",
    "global cy \n",
    "global cz\n",
    "\n",
    "global plotdata"
   ]
  },
  {
   "cell_type": "markdown",
   "metadata": {},
   "source": [
    "### Helper function to initialize global variables\n",
    "\n",
    "A helper function to initialize the global variables"
   ]
  },
  {
   "cell_type": "code",
   "execution_count": 4,
   "metadata": {
    "collapsed": false
   },
   "outputs": [],
   "source": [
    "def initializeVariables(channels, outputs, width, height):\n",
    "    global input_dim_model, input_dim, num_output_classes, cx, cy, plotdata\n",
    "    \n",
    "    input_dim_model = (channels, width, height)\n",
    "    \n",
    "    input_dim = channels * width * height\n",
    "    num_output_classes = outputs\n",
    "    \n",
    "    cx = C.input_variable(input_dim_model)\n",
    "    cy = C.input_variable(num_output_classes)\n",
    "    \n",
    "    plotdata = {\"minibatch_num\":[], \"loss\":[], \"error\":[], \"time\":[]}"
   ]
  },
  {
   "cell_type": "markdown",
   "metadata": {},
   "source": [
    "### A class for reading images in batches\n",
    "\n",
    "This is not covered in the CNTK CNN tutorial. Here we define a class that inherits from \"UserMinibatchSource\". The purpose of this class is to serve as the source of data for images (and the corresponding labels) read in batches. An alternative is to use the CNTK provided image deserializer class (ImageDeserializer) but this gives us more control on how the data is read and will be useful in future work"
   ]
  },
  {
   "cell_type": "code",
   "execution_count": 5,
   "metadata": {
    "collapsed": false
   },
   "outputs": [],
   "source": [
    "class ImgDataSource(UserMinibatchSource):\n",
    "    def __init__(self, idx_filename, f_dim, l_dim):\n",
    "        \n",
    "        self.f_dim, self.l_dim = f_dim, l_dim\n",
    "        \n",
    "        \n",
    "        self.fsi = StreamInformation(\"features\", 0, 'dense', np.float32, (self.f_dim,))\n",
    "        self.lsi = StreamInformation(\"labels\", 1, 'dense', np.float32, (self.l_dim,))\n",
    "        \n",
    "        self.data = {}\n",
    "        self.datafiles = []\n",
    "        \n",
    "        if not os.path.isfile(idx_filename):\n",
    "            print(\"Index file \" + idx_filename + \" not found\")\n",
    "            return\n",
    "        else:\n",
    "            # Read the index file\n",
    "            \n",
    "            f = open(idx_filename, \"r\")\n",
    "            \n",
    "            lines = f.readlines()\n",
    "            for x in lines:\n",
    "                x = x.strip()\n",
    "                imgfile, imglabel = x.split('\\t', 1)\n",
    "                \n",
    "                self.datafiles.append([imgfile, int(imglabel)])\n",
    "            f.close()\n",
    "            \n",
    "        self.next_seq_idx = 0\n",
    "        \n",
    "        # Create a matrix to represent the one-hot labels corresponding to the outputs\n",
    "        self.label_onehot = np.eye(num_output_classes, dtype=int)\n",
    "        \n",
    "        super(ImgDataSource, self).__init__()\n",
    "\n",
    "    def stream_infos(self):\n",
    "        return [self.fsi, self.lsi]\n",
    "\n",
    "    def next_minibatch(self, num_samples, number_of_workers=1, worker_rank=0, device=None):\n",
    "        # Note that in this example we do not yet make use of number_of_workers or\n",
    "        # worker_rank, which will limit the minibatch source to single GPU / single node\n",
    "        # scenarios.\n",
    "\n",
    "        features = []\n",
    "        labels = []\n",
    "\n",
    "        sweep_end = False\n",
    "\n",
    "        sample_count = 0\n",
    "        \n",
    "        while (sample_count < num_samples):\n",
    "            if self.next_seq_idx == len(self.datafiles):\n",
    "                sweep_end = True\n",
    "                self.next_seq_idx = 0\n",
    "            \n",
    "            img = Image.open(self.datafiles[self.next_seq_idx][0])\n",
    "            \n",
    "            # Convert Image to numpy array. \n",
    "            f_data = np.array(img)\n",
    "          \n",
    "             \n",
    "            if (len(f_data.shape) == 2):\n",
    "                # Image has shape height x width. We need to transpose it to width x height\n",
    "                f_data = f_data.transpose(1, 0)    \n",
    "                \n",
    "                # This extra step is required to create data in the right shape that is acceptable during the training process.\n",
    "                # Ignoring this step will result in an error. Try commenting out the line below and observe the error.                \n",
    "                f_data = f_data[None, :]\n",
    "            elif (len(f_data.shape) == 3):\n",
    "                # Image has shape height x width x channel. We need to transpose it to channel x width x height            \n",
    "                f_data = f_data.transpose(2, 1, 0)\n",
    "            else:\n",
    "                print(\"Unexpected image type\")\n",
    "                return -1\n",
    "                        \n",
    "            #Assign the one-hot encoded label to l_data\n",
    "            l_data = self.label_onehot[self.datafiles[self.next_seq_idx][1]]\n",
    "            \n",
    "            features.append(f_data)\n",
    "            labels.append(l_data)\n",
    "                        \n",
    "            sample_count = sample_count + 1\n",
    "            self.next_seq_idx = self.next_seq_idx + 1\n",
    "            \n",
    "        num_seq = len(features)\n",
    "                               \n",
    "        f_data = Value(batch=np.asarray(features, dtype=np.float32))\n",
    "        l_data = Value(batch=np.asarray(labels, dtype=np.float32))    \n",
    "        \n",
    "        result = {            \n",
    "                cx: MinibatchData(f_data, num_seq, sample_count, sweep_end),\n",
    "                cy: MinibatchData(l_data, num_seq, sample_count, sweep_end)\n",
    "                }\n",
    "   \n",
    "\n",
    "        return result        "
   ]
  },
  {
   "cell_type": "markdown",
   "metadata": {},
   "source": [
    "### Helper function to create reader\n",
    "Below is a simple helper function to help create the custom minibatch data source for images"
   ]
  },
  {
   "cell_type": "code",
   "execution_count": 6,
   "metadata": {
    "collapsed": true
   },
   "outputs": [],
   "source": [
    "def create_reader(idx_filepath, input_dim, num_label_classes):\n",
    "    \n",
    "    return ImgDataSource(idx_filepath, input_dim, num_label_classes)    "
   ]
  },
  {
   "cell_type": "markdown",
   "metadata": {},
   "source": [
    "### More helper functions\n",
    "\n",
    "The functions below are copied from http://cntk.ai/pythondocs/CNTK_103D_MNIST_ConvolutionalNeuralNetwork.html (read that tutorial for a better understanding of what they do)"
   ]
  },
  {
   "cell_type": "code",
   "execution_count": 7,
   "metadata": {
    "collapsed": true
   },
   "outputs": [],
   "source": [
    "# function to build model\n",
    "\n",
    "def create_model(features):\n",
    "    with C.layers.default_options(init=C.glorot_uniform(), activation=C.relu):\n",
    "            h = features\n",
    "            h = C.layers.Convolution2D(filter_shape=(5,5), \n",
    "                                       num_filters=8, \n",
    "                                       strides=(2,2), \n",
    "                                       pad=True, name='first_conv')(h)\n",
    "            h = C.layers.MaxPooling(filter_shape=(2,2), \n",
    "                                    strides=(2,2), name=\"first_max\")(h)            \n",
    "            h = C.layers.Convolution2D(filter_shape=(5,5), \n",
    "                                       num_filters=16, \n",
    "                                       strides=(2,2), \n",
    "                                       pad=True, name='second_conv')(h)\n",
    "            h = C.layers.MaxPooling(filter_shape=(3,3), \n",
    "                                    strides=(3,3), name=\"second_max\")(h)            \n",
    "            r = C.layers.Dense(num_output_classes, activation=None, name='classify')(h)\n",
    "            return r"
   ]
  },
  {
   "cell_type": "code",
   "execution_count": 8,
   "metadata": {
    "collapsed": true
   },
   "outputs": [],
   "source": [
    "def create_criterion_function(model, labels):\n",
    "    loss = C.cross_entropy_with_softmax(model, labels)\n",
    "    errs = C.classification_error(model, labels)\n",
    "    return loss, errs # (model, labels) -> (loss, error metric)"
   ]
  },
  {
   "cell_type": "code",
   "execution_count": 9,
   "metadata": {
    "collapsed": false
   },
   "outputs": [],
   "source": [
    "# Define a utility function to compute the moving average sum.\n",
    "# A more efficient implementation is possible with np.cumsum() function\n",
    "def moving_average(a, w=5):\n",
    "    if len(a) < w:\n",
    "        return a[:]    # Need to send a copy of the array\n",
    "    return [val if idx < w else sum(a[(idx-w):idx])/w for idx, val in enumerate(a)]\n",
    "\n",
    "\n",
    "# Defines a utility that prints the training progress\n",
    "def print_training_progress(trainer, mb, frequency, start_time, verbose=1):\n",
    "    training_loss = \"NA\"\n",
    "    eval_error = \"NA\"\n",
    "    time_since_start = \"NA\"\n",
    "\n",
    "    if mb%frequency == 0:\n",
    "        training_loss = trainer.previous_minibatch_loss_average\n",
    "        eval_error = trainer.previous_minibatch_evaluation_average\n",
    "        time_since_start = \"{:.1f}\".format(time.time() - start_time)\n",
    "        if verbose: \n",
    "            print (\"Minibatch: {0}, Loss: {1:.4f}, Error: {2:.2f}%\".format(mb, training_loss, eval_error*100) + \", Time since start: \" + time_since_start)\n",
    "        \n",
    "    return mb, training_loss, eval_error, time_since_start"
   ]
  },
  {
   "cell_type": "markdown",
   "metadata": {},
   "source": [
    "### Function to train CNN based on provided training dataset\n",
    "\n",
    "The function below goes through the cycle of training the CNN"
   ]
  },
  {
   "cell_type": "code",
   "execution_count": 27,
   "metadata": {
    "collapsed": true
   },
   "outputs": [],
   "source": [
    "def img_train(train_reader, model_func, train_minibatch_size = 35, num_samples_per_sweep = 15000, \n",
    "              num_sweeps_to_train_with = 10, learning_rate = 0.1, training_progress_output_freq = 500):\n",
    "    \n",
    "    global plotdata\n",
    "    \n",
    "    print(\"Training minibatch size = \" + str(train_minibatch_size))\n",
    "    print(\"Number of samples per sweep = \" + str(num_samples_per_sweep))\n",
    "    print(\"Number of sweeps to train with = \" + str(num_sweeps_to_train_with))\n",
    "    print(\"Learning rate = \" + str(learning_rate))\n",
    "    \n",
    "    \n",
    "    # Instantiate the model function; x is the input (feature) variable \n",
    "    # We will scale the input image pixels within 0-1 range by dividing all input value by 255.\n",
    "    model = model_func(cx/255)\n",
    "    \n",
    "    # Instantiate the loss and error function\n",
    "    loss, label_error = create_criterion_function(model, cy)\n",
    "    \n",
    "    # Instantiate the trainer object to drive the model training\n",
    "    lr_schedule = C.learning_rate_schedule(learning_rate, C.UnitType.minibatch)\n",
    "    learner = C.sgd(cz.parameters, lr_schedule)\n",
    "    trainer = C.Trainer(cz, (loss, label_error), [learner])\n",
    "    \n",
    "    # Initialize the parameters for the trainer\n",
    "    num_minibatches_to_train = (num_samples_per_sweep * num_sweeps_to_train_with) / train_minibatch_size\n",
    "           \n",
    "    # Start a timer\n",
    "    start = time.time()\n",
    "    \n",
    "    print(\"Number of mini batches to train = \" + str(num_minibatches_to_train))\n",
    "    \n",
    "    for i in range(0, int(num_minibatches_to_train)):\n",
    "        # Read a mini batch from the training dataset\n",
    "        data=train_reader.next_minibatch(train_minibatch_size)\n",
    "        \n",
    "        trainer.train_minibatch(data)\n",
    "        mb, training_loss, eval_error, time_since_start = print_training_progress(trainer, i, \n",
    "                                                                                  training_progress_output_freq, start, \n",
    "                                                                                  verbose=1)\n",
    "        \n",
    "        if ((i % training_progress_output_freq) == 0):\n",
    "            plotdata[\"minibatch_num\"].append(mb)\n",
    "            plotdata[\"loss\"].append(training_loss)\n",
    "            plotdata[\"error\"].append(eval_error)\n",
    "            plotdata[\"time\"].append(time_since_start)\n",
    "     \n",
    "    # Print training time\n",
    "    print(\"Training took {:.1f} sec\".format(time.time() - start))\n",
    "    \n",
    "    return trainer\n",
    "    "
   ]
  },
  {
   "cell_type": "markdown",
   "metadata": {},
   "source": [
    "### Function to test the trained CNN\n",
    "\n",
    "The function below goes through the cycle of testing the CNN"
   ]
  },
  {
   "cell_type": "code",
   "execution_count": 11,
   "metadata": {
    "collapsed": true
   },
   "outputs": [],
   "source": [
    "def img_test(trainer, test_reader, num_test_samples = 3000, test_minibatch_size = 50, print_frequency = 500):\n",
    "    \n",
    "    # Test data for trained model       \n",
    "    num_minibatches_to_test = num_test_samples // test_minibatch_size\n",
    "\n",
    "    print(\"Number of minibatches to test = \" + str(num_minibatches_to_test))\n",
    "    test_result = 0.0   \n",
    "\n",
    "    for i in range(0, num_minibatches_to_test):               \n",
    "        # We are loading test data in batches specified by test_minibatch_size\n",
    "        data = test_reader.next_minibatch(test_minibatch_size)\n",
    "            \n",
    "        eval_error = trainer.test_minibatch(data)\n",
    "        test_result = test_result + eval_error\n",
    "        \n",
    "        if ((i % print_frequency) == 0):\n",
    "            print(\"Testing minibatch \" + str(i) + \" Eval error = \" + str(eval_error))\n",
    "\n",
    "    # Average of evaluation errors of all test minibatches\n",
    "    print(\"Average test error: {0:.2f}%\".format(test_result * 100 / num_minibatches_to_test))    "
   ]
  },
  {
   "cell_type": "markdown",
   "metadata": {},
   "source": [
    "Helper function to create readers and trigger training and testing"
   ]
  },
  {
   "cell_type": "code",
   "execution_count": 19,
   "metadata": {
    "collapsed": true
   },
   "outputs": [],
   "source": [
    "def train_and_test(train_file, test_file, train_minibatch_size = 35, num_samples_per_sweep = 15000, \n",
    "                   num_sweeps_to_train_with = 10, learning_rate = 0.1,):\n",
    "    global cz\n",
    "    \n",
    "    cz = create_model(cx)\n",
    "    reader_train = create_reader(train_file, input_dim, num_output_classes)\n",
    "    reader_test = create_reader(test_file, input_dim, num_output_classes)\n",
    "    trainer = img_train(reader_train, cz, train_minibatch_size, num_samples_per_sweep, num_sweeps_to_train_with, learning_rate)\n",
    "    img_test(trainer, reader_test)        "
   ]
  },
  {
   "cell_type": "markdown",
   "metadata": {},
   "source": [
    "### Plot charts\n",
    "\n",
    "Function to plot the charts to showcase progress during training"
   ]
  },
  {
   "cell_type": "code",
   "execution_count": 13,
   "metadata": {
    "collapsed": false
   },
   "outputs": [],
   "source": [
    "def plotCharts():\n",
    "\n",
    "    plt.figure(1)\n",
    "    plt.subplot(211)\n",
    "    plt.plot(plotdata[\"minibatch_num\"], plotdata[\"loss\"], 'b--')\n",
    "    plt.xlabel('Minibatch number')\n",
    "    plt.ylabel('Loss')\n",
    "    plt.title('Minibatch run vs. Training loss')\n",
    "\n",
    "    plt.show()\n",
    "\n",
    "    plt.subplot(212)\n",
    "    plt.plot(plotdata[\"minibatch_num\"], plotdata[\"error\"], 'r--')\n",
    "    plt.xlabel('Minibatch number')\n",
    "    plt.ylabel('Label Prediction Error')\n",
    "    plt.title('Minibatch run vs. Label Prediction Error')\n",
    "    plt.show()"
   ]
  },
  {
   "cell_type": "markdown",
   "metadata": {},
   "source": [
    "### Evaluate image against trained model\n",
    "\n",
    "Function to evalue an image against the trained model"
   ]
  },
  {
   "cell_type": "code",
   "execution_count": 14,
   "metadata": {
    "collapsed": true
   },
   "outputs": [],
   "source": [
    "def evaluateImage(imgFileName):\n",
    "    \n",
    "    out = C.softmax(cz)\n",
    "    \n",
    "    imgdata = np.asarray(Image.open(imgFileName), dtype=np.float32)\n",
    "                                \n",
    "    if (len(imgdata.shape) == 2):\n",
    "        # Image has shape height x width. We need to transpose it to width x height\n",
    "        imgdata = imgdata.transpose(1, 0)    \n",
    "\n",
    "        # This extra step is required to create data in the right shape that is acceptable during the training process.\n",
    "        # Ignoring this step will result in an error. Try commenting out the line below and observe the error.                \n",
    "        imgdata = imgdata[None, :]\n",
    "    elif (len(img.shape) == 3):\n",
    "        # Image has shape height x width x channel. We need to transpose it to channel x width x height            \n",
    "        imgdata = imgdata.transpose(2, 1, 0)\n",
    "    else:\n",
    "        print(\"Unexpected image shape\")\n",
    "        return -1\n",
    "    \n",
    "    # Need to divide by 255 to match how the model was trained\n",
    "    # converting to a contiguosarray to avoid getting the warning message\n",
    "    imgdata = np.ascontiguousarray(imgdata) / 255\n",
    "        \n",
    "    predicted_label_prob = out.eval(imgdata)\n",
    "    \n",
    "    return np.argmax(predicted_label_prob)"
   ]
  },
  {
   "cell_type": "markdown",
   "metadata": {},
   "source": [
    "### Function to load and evaluate model from a file"
   ]
  },
  {
   "cell_type": "code",
   "execution_count": 15,
   "metadata": {
    "collapsed": false
   },
   "outputs": [],
   "source": [
    "from cntk.ops.functions import load_model\n",
    "\n",
    "def loadAndEvalModel(modelFileName, eval_file, eval_minibatch_size = 25):\n",
    "    global cz\n",
    "    cz = load_model(modelFileName)\n",
    "    \n",
    "    out = C.softmax(cz)\n",
    "    \n",
    "    # Read the data for evaluation    \n",
    "    reader_eval = create_reader(eval_file, input_dim, num_output_classes)\n",
    "\n",
    "    data = reader_eval.next_minibatch(eval_minibatch_size)\n",
    "    predicted_label_prob = []\n",
    "    \n",
    "    img_label = 1\n",
    "    img_data = 1\n",
    "    \n",
    "\n",
    "    for d in data:\n",
    "        if (len(data[d].shape) == 2):\n",
    "            img_label = data[d].as_sequences()\n",
    "        else:\n",
    "            img_data = data[d].as_sequences()\n",
    "            \n",
    "    # Note the division by 255. This is to match how the data was prepared during training.\n",
    "    # Skipping the division will give incorrect results  \n",
    "    predicted_label_prob = [out.eval(img_data[i] / 255) for i in range(0, len(img_data))]\n",
    "       \n",
    "    # Find the index with the maximum value for both predicted as well as the ground truth\n",
    "    pred = [np.argmax(predicted_label_prob[i]) for i in range(len(predicted_label_prob))]\n",
    "    gtlabel = [np.argmax(img_label[i]) for i in range(len(img_label))]\n",
    "    \n",
    "    num_errors = 0\n",
    "    for i in range(0, eval_minibatch_size):\n",
    "        if (pred[i] != gtlabel[i]):\n",
    "            num_errors = num_errors + 1\n",
    "    \n",
    "    #print(\"Label    :\", gtlabel)\n",
    "    #print(\"Predicted:\", pred)\n",
    "    print(\"Number of errors: \" + str(num_errors))\n",
    "    print(\"Error % = \" + str(100 * num_errors / eval_minibatch_size))"
   ]
  },
  {
   "cell_type": "markdown",
   "metadata": {},
   "source": [
    "### Train model for black and white images\n",
    "\n",
    "Finally, use all the functions above to initialize variables, create the model and start the training and testing cycle"
   ]
  },
  {
   "cell_type": "code",
   "execution_count": 15,
   "metadata": {
    "collapsed": false,
    "scrolled": false
   },
   "outputs": [
    {
     "name": "stdout",
     "output_type": "stream",
     "text": [
      "Training 4579 parameters in 6 parameter tensors.\n",
      "Training minibatch size = 35\n",
      "Number of samples per sweep = 15000\n",
      "Number of sweeps to train with = 10\n",
      "Learning rate = 0.1\n",
      "Number of mini batches to train = 4285.714285714285\n",
      "Minibatch: 0, Loss: 1.0906, Error: 51.43%, Time since start: 0.7\n",
      "Minibatch: 500, Loss: 0.3889, Error: 11.43%, Time since start: 134.3\n",
      "Minibatch: 1000, Loss: 0.0973, Error: 2.86%, Time since start: 260.2\n",
      "Minibatch: 1500, Loss: 0.0289, Error: 0.00%, Time since start: 343.3\n",
      "Minibatch: 2000, Loss: 0.0252, Error: 0.00%, Time since start: 421.6\n",
      "Minibatch: 2500, Loss: 0.0486, Error: 0.00%, Time since start: 504.6\n",
      "Minibatch: 3000, Loss: 0.0162, Error: 0.00%, Time since start: 593.4\n",
      "Minibatch: 3500, Loss: 0.0127, Error: 0.00%, Time since start: 671.3\n",
      "Minibatch: 4000, Loss: 0.0065, Error: 0.00%, Time since start: 745.4\n",
      "Training took 787.0 sec\n",
      "Number of minibatches to test = 60\n",
      "Testing minibatch 0 Eval error = 0.0\n",
      "Average test error: 0.67%\n"
     ]
    },
    {
     "data": {
      "image/png": "[encoded data removed]",
      "text/plain": [
       "<matplotlib.figure.Figure at 0x178ee8032b0>"
      ]
     },
     "metadata": {},
     "output_type": "display_data"
    },
    {
     "data": {
      "image/png": "[encoded data removed]",
      "text/plain": [
       "<matplotlib.figure.Figure at 0x178f1978be0>"
      ]
     },
     "metadata": {},
     "output_type": "display_data"
    }
   ],
   "source": [
    "\n",
    "initializeVariables(1, 3, 100, 150)\n",
    "\n",
    "# Create the model\n",
    "cz = create_model(cx)\n",
    "\n",
    "# Number of parameters in the network\n",
    "C.logging.log_number_of_parameters(cz)\n",
    "\n",
    "train_and_test(\"./train-bw-shapes-idx.txt\", \"./test-bw-shapes-idx.txt\")\n",
    "\n",
    "# Save the model to a file\n",
    "cz.save(\"./bw-3shapes-img.dnn\")\n",
    "\n",
    "plotCharts()"
   ]
  },
  {
   "cell_type": "markdown",
   "metadata": {},
   "source": [
    "### Evaluate the model\n",
    "\n",
    "Evaluate the model against the test dataset as well as against an individual image"
   ]
  },
  {
   "cell_type": "code",
   "execution_count": 20,
   "metadata": {
    "collapsed": false
   },
   "outputs": [
    {
     "name": "stdout",
     "output_type": "stream",
     "text": [
      "Number of errors: 20\n",
      "Error % = 0.6666666666666666\n"
     ]
    }
   ],
   "source": [
    "loadAndEvalModel(\"./bw-3shapes-img.dnn\", \"./test-bw-shapes-idx.txt\", eval_minibatch_size = 3000)"
   ]
  },
  {
   "cell_type": "code",
   "execution_count": 25,
   "metadata": {
    "collapsed": false
   },
   "outputs": [
    {
     "name": "stdout",
     "output_type": "stream",
     "text": [
      "1\n"
     ]
    }
   ],
   "source": [
    "print(evaluateImage(\"./test-bw-shapes-dataset/1.png\"))"
   ]
  },
  {
   "cell_type": "markdown",
   "metadata": {},
   "source": [
    "### Train and evaluate model for grayscale images\n",
    "\n",
    "Similar to the model for black & white images, lets now train a model using grayscale images and then evaluate it using the grayscale test image dataset as well as the black & white test image dataset"
   ]
  },
  {
   "cell_type": "code",
   "execution_count": 28,
   "metadata": {
    "collapsed": false
   },
   "outputs": [
    {
     "name": "stdout",
     "output_type": "stream",
     "text": [
      "Training 4579 parameters in 6 parameter tensors.\n",
      "Training minibatch size = 55\n",
      "Number of samples per sweep = 15000\n",
      "Number of sweeps to train with = 25\n",
      "Learning rate = 0.1\n",
      "Number of mini batches to train = 6818.181818181818\n",
      "Minibatch: 0, Loss: 1.0928, Error: 63.64%, Time since start: 0.6\n",
      "Minibatch: 500, Loss: 1.0519, Error: 50.91%, Time since start: 139.5\n",
      "Minibatch: 1000, Loss: 0.9427, Error: 38.18%, Time since start: 266.4\n",
      "Minibatch: 1500, Loss: 0.7431, Error: 27.27%, Time since start: 387.8\n",
      "Minibatch: 2000, Loss: 0.7598, Error: 32.73%, Time since start: 520.3\n",
      "Minibatch: 2500, Loss: 0.5731, Error: 23.64%, Time since start: 650.1\n",
      "Minibatch: 3000, Loss: 0.2323, Error: 5.45%, Time since start: 769.3\n",
      "Minibatch: 3500, Loss: 0.3640, Error: 18.18%, Time since start: 913.0\n",
      "Minibatch: 4000, Loss: 0.2731, Error: 9.09%, Time since start: 1040.5\n",
      "Minibatch: 4500, Loss: 0.2838, Error: 12.73%, Time since start: 1164.5\n",
      "Minibatch: 5000, Loss: 0.3421, Error: 10.91%, Time since start: 1285.7\n",
      "Minibatch: 5500, Loss: 0.3169, Error: 12.73%, Time since start: 1413.1\n",
      "Minibatch: 6000, Loss: 0.0999, Error: 3.64%, Time since start: 1556.0\n",
      "Minibatch: 6500, Loss: 0.4740, Error: 12.73%, Time since start: 1698.7\n",
      "Training took 1784.6 sec\n",
      "Number of minibatches to test = 60\n",
      "Testing minibatch 0 Eval error = 0.04\n",
      "Average test error: 6.30%\n"
     ]
    },
    {
     "data": {
      "image/png": "[encoded data removed]",
      "text/plain": [
       "<matplotlib.figure.Figure at 0x2dd3542bf60>"
      ]
     },
     "metadata": {},
     "output_type": "display_data"
    },
    {
     "data": {
      "image/png": "[encoded data removed]",
      "text/plain": [
       "<matplotlib.figure.Figure at 0x2dd354b2ba8>"
      ]
     },
     "metadata": {},
     "output_type": "display_data"
    }
   ],
   "source": [
    "\n",
    "initializeVariables(1, 3, 100, 150)\n",
    "\n",
    "# Create the model\n",
    "cz = create_model(cx)\n",
    "\n",
    "# Number of parameters in the network\n",
    "C.logging.log_number_of_parameters(cz)\n",
    "\n",
    "train_and_test(\"./train-gs-shapes-idx.txt\", \"./test-gs-shapes-idx.txt\", train_minibatch_size = 55, \n",
    "               num_samples_per_sweep = 15000, num_sweeps_to_train_with = 25, learning_rate = 0.1)\n",
    "\n",
    "# Save the model to a file\n",
    "cz.save(\"./gs-3shapes-img.dnn\")\n",
    "\n",
    "plotCharts()"
   ]
  },
  {
   "cell_type": "code",
   "execution_count": 29,
   "metadata": {
    "collapsed": false
   },
   "outputs": [
    {
     "name": "stdout",
     "output_type": "stream",
     "text": [
      "Number of errors: 189\n",
      "Error % = 6.3\n"
     ]
    }
   ],
   "source": [
    "loadAndEvalModel(\"./gs-3shapes-img.dnn\", \"./test-gs-shapes-idx.txt\", eval_minibatch_size = 3000)"
   ]
  },
  {
   "cell_type": "code",
   "execution_count": 30,
   "metadata": {
    "collapsed": false
   },
   "outputs": [
    {
     "name": "stdout",
     "output_type": "stream",
     "text": [
      "Number of errors: 68\n",
      "Error % = 2.2666666666666666\n"
     ]
    }
   ],
   "source": [
    "loadAndEvalModel(\"./gs-3shapes-img.dnn\", \"./test-bw-shapes-idx.txt\", eval_minibatch_size = 3000)"
   ]
  },
  {
   "cell_type": "markdown",
   "metadata": {},
   "source": [
    "### Train and evaluate model for grayscale images\n",
    "\n",
    "Now lets train a model using RGB images and then evaluate it."
   ]
  },
  {
   "cell_type": "code",
   "execution_count": 31,
   "metadata": {
    "collapsed": false
   },
   "outputs": [
    {
     "name": "stdout",
     "output_type": "stream",
     "text": [
      "Training 4979 parameters in 6 parameter tensors.\n",
      "Training minibatch size = 35\n",
      "Number of samples per sweep = 15000\n",
      "Number of sweeps to train with = 25\n",
      "Learning rate = 0.1\n",
      "Number of mini batches to train = 10714.285714285714\n",
      "Minibatch: 0, Loss: 1.1099, Error: 65.71%, Time since start: 0.6\n",
      "Minibatch: 500, Loss: 0.9846, Error: 57.14%, Time since start: 164.2\n",
      "Minibatch: 1000, Loss: 0.8986, Error: 45.71%, Time since start: 304.2\n",
      "Minibatch: 1500, Loss: 0.6756, Error: 28.57%, Time since start: 437.4\n",
      "Minibatch: 2000, Loss: 0.3871, Error: 14.29%, Time since start: 569.4\n",
      "Minibatch: 2500, Loss: 1.0726, Error: 65.71%, Time since start: 712.7\n",
      "Minibatch: 3000, Loss: 0.8552, Error: 34.29%, Time since start: 864.7\n",
      "Minibatch: 3500, Loss: 0.6342, Error: 20.00%, Time since start: 1017.7\n",
      "Minibatch: 4000, Loss: 0.9958, Error: 54.29%, Time since start: 1172.4\n",
      "Minibatch: 4500, Loss: 0.7152, Error: 28.57%, Time since start: 1320.1\n",
      "Minibatch: 5000, Loss: 0.4803, Error: 11.43%, Time since start: 1461.8\n",
      "Minibatch: 5500, Loss: 0.7676, Error: 20.00%, Time since start: 1592.8\n",
      "Minibatch: 6000, Loss: 0.3997, Error: 14.29%, Time since start: 1720.2\n",
      "Minibatch: 6500, Loss: 0.2458, Error: 8.57%, Time since start: 1845.7\n",
      "Minibatch: 7000, Loss: 0.3712, Error: 11.43%, Time since start: 1970.1\n",
      "Minibatch: 7500, Loss: 0.1414, Error: 5.71%, Time since start: 2095.7\n",
      "Minibatch: 8000, Loss: 0.1132, Error: 5.71%, Time since start: 2227.3\n",
      "Minibatch: 8500, Loss: 0.4403, Error: 17.14%, Time since start: 2349.5\n",
      "Minibatch: 9000, Loss: 0.4047, Error: 11.43%, Time since start: 2475.4\n",
      "Minibatch: 9500, Loss: 0.1629, Error: 2.86%, Time since start: 2606.9\n",
      "Minibatch: 10000, Loss: 0.1642, Error: 8.57%, Time since start: 2727.7\n",
      "Minibatch: 10500, Loss: 0.3415, Error: 8.57%, Time since start: 2850.3\n",
      "Training took 2906.0 sec\n",
      "Number of minibatches to test = 60\n",
      "Testing minibatch 0 Eval error = 0.04\n",
      "Average test error: 10.90%\n"
     ]
    },
    {
     "data": {
      "image/png": "[encoded data removed]",
      "text/plain": [
       "<matplotlib.figure.Figure at 0x2dd389639b0>"
      ]
     },
     "metadata": {},
     "output_type": "display_data"
    },
    {
     "data": {
      "image/png": "[encoded data removed]",
      "text/plain": [
       "<matplotlib.figure.Figure at 0x2dd3890aac8>"
      ]
     },
     "metadata": {},
     "output_type": "display_data"
    }
   ],
   "source": [
    "initializeVariables(3, 3, 100, 150)\n",
    "\n",
    "# Create the model\n",
    "cz = create_model(cx)\n",
    "\n",
    "# Number of parameters in the network\n",
    "C.logging.log_number_of_parameters(cz)\n",
    "\n",
    "train_and_test(\"./train-rgb-shapes-idx.txt\", \"./test-rgb-shapes-idx.txt\", train_minibatch_size = 35, \n",
    "               num_samples_per_sweep = 15000, num_sweeps_to_train_with = 25, learning_rate = 0.1)\n",
    "\n",
    "# Save the model to a file\n",
    "cz.save(\"./rgb-3shapes-img.dnn\")\n",
    "\n",
    "plotCharts()"
   ]
  },
  {
   "cell_type": "code",
   "execution_count": 32,
   "metadata": {
    "collapsed": false
   },
   "outputs": [
    {
     "name": "stdout",
     "output_type": "stream",
     "text": [
      "Number of errors: 327\n",
      "Error % = 10.9\n"
     ]
    }
   ],
   "source": [
    "loadAndEvalModel(\"./rgb-3shapes-img.dnn\", \"./test-rgb-shapes-idx.txt\", eval_minibatch_size = 3000)"
   ]
  },
  {
   "cell_type": "markdown",
   "metadata": {},
   "source": [
    "### Training with a bigger dataset\n",
    "\n",
    "The error seems to have increased with the RGB dataset and so let's rerun the training cycle with a bigger dataset and see if it yields any difference"
   ]
  },
  {
   "cell_type": "code",
   "execution_count": 33,
   "metadata": {
    "collapsed": false
   },
   "outputs": [
    {
     "name": "stdout",
     "output_type": "stream",
     "text": [
      "Training 4979 parameters in 6 parameter tensors.\n",
      "Training minibatch size = 35\n",
      "Number of samples per sweep = 30000\n",
      "Number of sweeps to train with = 25\n",
      "Learning rate = 0.1\n",
      "Number of mini batches to train = 21428.571428571428\n",
      "Minibatch: 0, Loss: 1.1117, Error: 65.71%, Time since start: 0.6\n",
      "Minibatch: 500, Loss: 1.0673, Error: 48.57%, Time since start: 180.9\n",
      "Minibatch: 1000, Loss: 0.7443, Error: 28.57%, Time since start: 312.0\n",
      "Minibatch: 1500, Loss: 0.7124, Error: 28.57%, Time since start: 446.9\n",
      "Minibatch: 2000, Loss: 0.6021, Error: 14.29%, Time since start: 595.6\n",
      "Minibatch: 2500, Loss: 0.5315, Error: 11.43%, Time since start: 784.5\n",
      "Minibatch: 3000, Loss: 0.2214, Error: 5.71%, Time since start: 975.6\n",
      "Minibatch: 3500, Loss: 0.2122, Error: 8.57%, Time since start: 1166.3\n",
      "Minibatch: 4000, Loss: 0.6019, Error: 22.86%, Time since start: 1360.5\n",
      "Minibatch: 4500, Loss: 0.1718, Error: 5.71%, Time since start: 1542.6\n",
      "Minibatch: 5000, Loss: 0.1720, Error: 5.71%, Time since start: 1717.0\n",
      "Minibatch: 5500, Loss: 0.2028, Error: 8.57%, Time since start: 1901.1\n",
      "Minibatch: 6000, Loss: 0.1111, Error: 2.86%, Time since start: 2084.7\n",
      "Minibatch: 6500, Loss: 0.3517, Error: 14.29%, Time since start: 2266.1\n",
      "Minibatch: 7000, Loss: 0.4007, Error: 14.29%, Time since start: 2477.4\n",
      "Minibatch: 7500, Loss: 0.2774, Error: 5.71%, Time since start: 2658.4\n",
      "Minibatch: 8000, Loss: 0.0790, Error: 0.00%, Time since start: 2840.0\n",
      "Minibatch: 8500, Loss: 0.4413, Error: 8.57%, Time since start: 3037.9\n",
      "Minibatch: 9000, Loss: 0.2044, Error: 5.71%, Time since start: 3257.0\n",
      "Minibatch: 9500, Loss: 0.0589, Error: 2.86%, Time since start: 3435.3\n",
      "Minibatch: 10000, Loss: 0.2389, Error: 5.71%, Time since start: 3630.6\n",
      "Minibatch: 10500, Loss: 0.1748, Error: 8.57%, Time since start: 3822.4\n",
      "Minibatch: 11000, Loss: 0.3403, Error: 5.71%, Time since start: 5026.2\n",
      "Minibatch: 11500, Loss: 0.0385, Error: 0.00%, Time since start: 5296.5\n",
      "Minibatch: 12000, Loss: 0.0623, Error: 2.86%, Time since start: 5516.8\n",
      "Minibatch: 12500, Loss: 0.1213, Error: 8.57%, Time since start: 5809.0\n",
      "Minibatch: 13000, Loss: 0.4677, Error: 8.57%, Time since start: 6083.0\n",
      "Minibatch: 13500, Loss: 0.2721, Error: 8.57%, Time since start: 6277.7\n",
      "Minibatch: 14000, Loss: 0.1581, Error: 8.57%, Time since start: 6452.7\n",
      "Minibatch: 14500, Loss: 0.3277, Error: 2.86%, Time since start: 6630.1\n",
      "Minibatch: 15000, Loss: 0.0969, Error: 2.86%, Time since start: 6810.4\n",
      "Minibatch: 15500, Loss: 0.1200, Error: 2.86%, Time since start: 6994.6\n",
      "Minibatch: 16000, Loss: 0.1375, Error: 5.71%, Time since start: 7183.6\n",
      "Minibatch: 16500, Loss: 0.1284, Error: 5.71%, Time since start: 7363.6\n",
      "Minibatch: 17000, Loss: 0.2052, Error: 8.57%, Time since start: 7564.4\n",
      "Minibatch: 17500, Loss: 0.0120, Error: 0.00%, Time since start: 7736.1\n",
      "Minibatch: 18000, Loss: 0.0787, Error: 2.86%, Time since start: 7909.9\n",
      "Minibatch: 18500, Loss: 0.1943, Error: 5.71%, Time since start: 8080.0\n",
      "Minibatch: 19000, Loss: 0.2686, Error: 8.57%, Time since start: 8221.2\n",
      "Minibatch: 19500, Loss: 0.0525, Error: 2.86%, Time since start: 8350.1\n",
      "Minibatch: 20000, Loss: 0.3094, Error: 8.57%, Time since start: 8477.8\n",
      "Minibatch: 20500, Loss: 0.0067, Error: 0.00%, Time since start: 8608.1\n",
      "Minibatch: 21000, Loss: 0.0726, Error: 5.71%, Time since start: 8735.0\n",
      "Training took 8883.2 sec\n",
      "Number of minibatches to test = 60\n",
      "Testing minibatch 0 Eval error = 0.0\n",
      "Average test error: 2.27%\n"
     ]
    },
    {
     "data": {
      "image/png": "[encoded data removed]",
      "text/plain": [
       "<matplotlib.figure.Figure at 0x2dd389d2f60>"
      ]
     },
     "metadata": {},
     "output_type": "display_data"
    },
    {
     "data": {
      "image/png": "[encoded data removed]",
      "text/plain": [
       "<matplotlib.figure.Figure at 0x2dd3542bda0>"
      ]
     },
     "metadata": {},
     "output_type": "display_data"
    }
   ],
   "source": [
    "initializeVariables(3, 3, 100, 150)\n",
    "\n",
    "# Create the model\n",
    "cz = create_model(cx)\n",
    "\n",
    "# Number of parameters in the network\n",
    "C.logging.log_number_of_parameters(cz)\n",
    "\n",
    "train_and_test(\"./train-rgb-shapes-idx.txt\", \"./test-rgb-shapes-idx.txt\", train_minibatch_size = 35, \n",
    "               num_samples_per_sweep = 30000, num_sweeps_to_train_with = 25, learning_rate = 0.1)\n",
    "\n",
    "# Save the model to a file\n",
    "cz.save(\"./rgb-3shapes-img-2.dnn\")\n",
    "\n",
    "plotCharts()"
   ]
  }
 ],
 "metadata": {
  "anaconda-cloud": {},
  "kernelspec": {
   "display_name": "Python [Root]",
   "language": "python",
   "name": "Python [Root]"
  },
  "language_info": {
   "codemirror_mode": {
    "name": "ipython",
    "version": 3
   },
   "file_extension": ".py",
   "mimetype": "text/x-python",
   "name": "python",
   "nbconvert_exporter": "python",
   "pygments_lexer": "ipython3",
   "version": "3.5.2"
  }
 },
 "nbformat": 4,
 "nbformat_minor": 0
}
