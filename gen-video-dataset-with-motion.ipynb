{
 "cells": [
  {
   "cell_type": "markdown",
   "metadata": {},
   "source": [
    "# Generate video dataset with motion\n",
    "\n",
    "This notebook provides code to generate a synthetic video dataset with various direction of a sprite movement in them. We can use this dataset as input to a CNN."
   ]
  },
  {
   "cell_type": "code",
   "execution_count": 1,
   "metadata": {},
   "outputs": [],
   "source": [
    "import os\n",
    "from PIL import Image, ImageDraw\n",
    "from random import randint\n",
    "import subprocess as sp\n",
    "import math\n",
    "\n",
    "global FFMPEG_BIN\n",
    "FFMPEG_BIN = \"c:\\\\vsprojects\\\\ffmpeg\\\\ffmpeg.exe\"\n",
    "\n",
    "EAST = 0\n",
    "SOUTH_EAST = 1\n",
    "SOUTH = 2\n",
    "SOUTH_WEST = 3\n",
    "WEST = 4\n",
    "NORTH_WEST = 5\n",
    "NORTH = 6\n",
    "NORTH_EAST = 7\n",
    "\n",
    "NA_DIR = -1\n",
    "\n",
    "# This represents the amount of pixels the sprite moves in each frame\n",
    "MOTION_DELTA = 3\n",
    "\n",
    "FRAME_WIDTH = 300\n",
    "FRAME_HEIGHT = 300\n",
    "\n",
    "SPRITE_WIDTH = 25\n",
    "SPRITE_HEIGHT = 25"
   ]
  },
  {
   "cell_type": "markdown",
   "metadata": {},
   "source": [
    "### Helper function to save video frames\n",
    "\n",
    "This is a helper function that simply saves a frame as an image at the provided file location"
   ]
  },
  {
   "cell_type": "code",
   "execution_count": 2,
   "metadata": {},
   "outputs": [],
   "source": [
    "def saveimg(filename, img):\n",
    "    if not os.path.isfile(filename):\n",
    "        #print(\"Saving\", filename )\n",
    "        img.save(filename)\n",
    "    else:\n",
    "        print(\"File already exists\", filename)"
   ]
  },
  {
   "cell_type": "markdown",
   "metadata": {},
   "source": [
    "### Get direction of motion\n",
    "\n",
    "Get the direction of the sprite movement based on the slope of the line of motion"
   ]
  },
  {
   "cell_type": "code",
   "execution_count": 3,
   "metadata": {},
   "outputs": [],
   "source": [
    "def getDirection(slope):\n",
    "    \n",
    "    direction = \"NA\"\n",
    "    \n",
    "    if ((slope < math.tan(math.pi/8)) and (slope > math.tan(-math.pi/8))):\n",
    "        direction = EAST\n",
    "    elif ((slope > math.tan(math.pi/8)) and (slope < math.tan(3*math.pi/8))):\n",
    "        direction = SOUTH_EAST   \n",
    "    elif ((slope < math.tan(-math.pi/8)) and (slope > math.tan(-math.pi/4))):\n",
    "        direction = NORTH_EAST\n",
    "    elif ((slope < math.tan(-math.pi/4)) and (slope > math.tan(-3*math.pi/8))):\n",
    "        direction = SOUTH_WEST\n",
    "    elif ((slope > math.tan(3*math.pi/8)) or (slope < math.tan(5*math.pi/8))):\n",
    "        direction = SOUTH\n",
    "        \n",
    "    return direction"
   ]
  },
  {
   "cell_type": "code",
   "execution_count": 4,
   "metadata": {},
   "outputs": [],
   "source": [
    "def getMirrorDirection(direction):\n",
    "    \n",
    "    if (direction == EAST):\n",
    "        direction = WEST\n",
    "    elif (direction == SOUTH):\n",
    "        direction = NORTH\n",
    "    elif (direction == NORTH_EAST):\n",
    "        direction = SOUTH_WEST\n",
    "    elif (direction == SOUTH_WEST):\n",
    "        direction = NORTH_EAST\n",
    "    elif (direction == SOUTH_EAST):\n",
    "        direction = NORTH_WEST\n",
    "    else:\n",
    "        direction = NA_DIR\n",
    "        \n",
    "    return direction\n"
   ]
  },
  {
   "cell_type": "markdown",
   "metadata": {},
   "source": [
    "### Render the sprite\n",
    "\n",
    "The functions below render the sprite in a video frame and save the frame as an image. The sprite is a circle in this case but the code below can be modified to render a sprite of a different shape."
   ]
  },
  {
   "cell_type": "code",
   "execution_count": 5,
   "metadata": {},
   "outputs": [],
   "source": [
    "def render_ew(dirname, frame, index, frame_width, frame_height, sprite_width, sprite_height, slope, intercept, \n",
    "              color, fill_color, frame_type):        \n",
    "    \n",
    "    x1 = frame\n",
    "    x2 = x1 + sprite_width\n",
    "\n",
    "    y1 = slope * x1 + intercept\n",
    "    y2 = y1 + sprite_height\n",
    "\n",
    "    img = Image.new(frame_type, (frame_width, frame_height), color)    \n",
    "    draw = ImageDraw.Draw(img)        \n",
    "    draw.ellipse((x1, y1, x2, y2), fill = fill_color)\n",
    "\n",
    "    saveimg(dirname + str(index) + \".png\", img)     "
   ]
  },
  {
   "cell_type": "code",
   "execution_count": 6,
   "metadata": {},
   "outputs": [],
   "source": [
    "def render_ns(dirname, frame, index, frame_width, frame_height, sprite_width, sprite_height, slope, intercept, \n",
    "              color, fill_color, frame_type):        \n",
    "    \n",
    "    y1 = frame\n",
    "    y2 = y1 + sprite_height\n",
    "\n",
    "    x1 = (y1 - intercept) / slope \n",
    "    x2 = x1 + sprite_width\n",
    "\n",
    "    img = Image.new(frame_type, (frame_width, frame_height), color)    \n",
    "    draw = ImageDraw.Draw(img)        \n",
    "    draw.ellipse((x1, y1, x2, y2), fill = fill_color)\n",
    "\n",
    "    saveimg(dirname + str(index) + \".png\", img)   "
   ]
  },
  {
   "cell_type": "code",
   "execution_count": 7,
   "metadata": {},
   "outputs": [],
   "source": [
    "def render_east(dirname, frame_width, frame_height, sprite_height, sprite_width, slope, intercept, \n",
    "                color, fill_color, frame_type):        \n",
    "    \n",
    "    index = 0\n",
    "    \n",
    "    for frame in range(0, frame_width, MOTION_DELTA):\n",
    "        render_ew(dirname, frame, index, frame_width, frame_height, sprite_width, sprite_height, slope, intercept, \n",
    "                  color, fill_color, frame_type)      \n",
    "        index = index + 1"
   ]
  },
  {
   "cell_type": "code",
   "execution_count": 8,
   "metadata": {},
   "outputs": [],
   "source": [
    "def render_west(dirname, frame_width, frame_height, sprite_width, sprite_height, slope, intercept, \n",
    "                color, fill_color, frame_type):\n",
    "            \n",
    "    index = 0\n",
    "    \n",
    "    for frame in range(frame_width - sprite_width, 0, -MOTION_DELTA):\n",
    "        render_ew(dirname, frame, index, frame_width, frame_height, sprite_width, sprite_height, slope, intercept, \n",
    "                  color, fill_color, frame_type)      \n",
    "        index = index + 1        "
   ]
  },
  {
   "cell_type": "code",
   "execution_count": 9,
   "metadata": {},
   "outputs": [],
   "source": [
    "def render_south(dirname, frame_width, frame_height, sprite_width, sprite_height, slope, intercept, \n",
    "                 color, fill_color, frame_type):\n",
    "            \n",
    "    index = 0\n",
    "    \n",
    "    for frame in range(0, frame_height, MOTION_DELTA):\n",
    "        render_ns(dirname, frame, index, frame_width, frame_height, sprite_width, sprite_height, slope, intercept, \n",
    "                  color, fill_color, frame_type)      \n",
    "        index = index + 1   "
   ]
  },
  {
   "cell_type": "code",
   "execution_count": 10,
   "metadata": {},
   "outputs": [],
   "source": [
    "def render_north(dirname, frame_width, frame_height, sprite_width, sprite_height, slope, intercept, \n",
    "                 color, fill_color, frame_type):\n",
    "            \n",
    "    index = 0\n",
    "    \n",
    "    for frame in range(frame_height - sprite_height, 0, -MOTION_DELTA):\n",
    "        render_ns(dirname, frame, index, frame_width, frame_height, sprite_width, sprite_height, slope, intercept, \n",
    "                  color, fill_color, frame_type)      \n",
    "        index = index + 1  "
   ]
  },
  {
   "cell_type": "markdown",
   "metadata": {},
   "source": [
    "### Helper function to generate a black and white image\n",
    "\n",
    "The function below generates a black and white image. It randomly selects the background color to be black or white and then selects the other color as the shape fill color."
   ]
  },
  {
   "cell_type": "code",
   "execution_count": 11,
   "metadata": {},
   "outputs": [],
   "source": [
    "def genColorsForBWImage(flip = True):\n",
    "    \n",
    "    backColor = 0\n",
    "    \n",
    "    if (flip):\n",
    "        backColor = randint(0, 1)        \n",
    "    \n",
    "    fillColor = 0\n",
    "\n",
    "    if (backColor == 0):\n",
    "        fillColor = 255\n",
    "    else:\n",
    "        backColor = 255\n",
    "        \n",
    "    return backColor, fillColor"
   ]
  },
  {
   "cell_type": "markdown",
   "metadata": {},
   "source": [
    "### Helper function to generate a grayscale image\n",
    "\n",
    "The function below generates a grayscale image. It randomly selects the background color and the color of the shape"
   ]
  },
  {
   "cell_type": "code",
   "execution_count": 12,
   "metadata": {},
   "outputs": [],
   "source": [
    "def genColorsForGrayscaleImage():\n",
    "    \n",
    "    backColor = randint(0, 255)        \n",
    "    fillColor = randint(0, 255)\n",
    "    \n",
    "    return backColor, fillColor"
   ]
  },
  {
   "cell_type": "markdown",
   "metadata": {},
   "source": [
    "### Helper function to generate a RGB image\n",
    "\n",
    "This function generated a RGB image by generating a random background and shape fill color"
   ]
  },
  {
   "cell_type": "code",
   "execution_count": 13,
   "metadata": {},
   "outputs": [],
   "source": [
    "def genColorsForRGBImage():\n",
    "            \n",
    "    r = randint(0, 255)\n",
    "    g = randint(0, 255)\n",
    "    b = randint(0, 255)        \n",
    "\n",
    "    fr = randint(0, 255)\n",
    "    fg = randint(0, 255)\n",
    "    fb = randint(0, 255)      \n",
    "\n",
    "    backColor = (r, g, b)\n",
    "    fillColor = (fr, fg, fb)\n",
    "\n",
    "    return backColor, fillColor"
   ]
  },
  {
   "cell_type": "markdown",
   "metadata": {},
   "source": [
    "### Helper function to generate video frames\n",
    "\n",
    "The video frames are generated with a random color for the background and the sprite and also a random direction of motion for the sprite"
   ]
  },
  {
   "cell_type": "code",
   "execution_count": 18,
   "metadata": {},
   "outputs": [],
   "source": [
    "def genFrames(dirname, frame_width, frame_height, sprite_width, sprite_height, frameType):\n",
    "    if not os.path.exists(dirname):\n",
    "        os.makedirs(dirname)\n",
    "           \n",
    "    sprite_height = randint(10, sprite_height)\n",
    "    sprite_width = sprite_height \n",
    "\n",
    "    if ((frameType == \"BW\") or (frameType == \"GS\")):        \n",
    "        frame_type = 'L'\n",
    "    else:\n",
    "        frame_type = 'RGB'\n",
    "        \n",
    "    backColor = 0\n",
    "    fillColor = 0       \n",
    "\n",
    "    if (frameType == \"RGB\"):\n",
    "        backColor, fillColor = genColorsForRGBImage()\n",
    "    elif (frameType == \"BW\"):\n",
    "        backColor, fillColor = genColorsForBWImage(False)\n",
    "    elif (frameType == \"GS\"):\n",
    "        backColor, fillColor = genColorsForGrayscaleImage()                    \n",
    "    \n",
    "    d = randint(0, 1)\n",
    "    \n",
    "    if (d == 0):\n",
    "        x1 = 0\n",
    "        y1 = randint(0, frame_height - sprite_height) \n",
    "        x2 = sprite_width\n",
    "        y2 = y1 + sprite_height \n",
    "\n",
    "        endpoint_x = frame_width - sprite_width\n",
    "        endpoint_y = randint(0, frame_height - sprite_height)\n",
    "    else:\n",
    "        y1 = 0\n",
    "        x1 = randint(0, frame_width - sprite_width)\n",
    "        y2 = sprite_height\n",
    "        x2 = x1 + sprite_height\n",
    "        \n",
    "        endpoint_y = frame_height - sprite_height\n",
    "        endpoint_x = randint(0, frame_width - sprite_width)\n",
    "        \n",
    "        if (x1 == endpoint_x):\n",
    "            endpoint_x = endpoint_x + 1\n",
    "        \n",
    "        \n",
    "    #Calculate slope and intercept for the sprite motion \n",
    "    slope = (y1 - endpoint_y)/(x1 - endpoint_x)    \n",
    "    intercept = y1 - x1 * slope\n",
    "    \n",
    "    #print(slope)\n",
    "        \n",
    "    direction = getDirection(slope)                 \n",
    "    \n",
    "    m = randint(0, 1)\n",
    "    \n",
    "    if (d == 0):\n",
    "        if (m == 0):\n",
    "            render_east(dirname, frame_width, frame_height, sprite_width, sprite_height, slope, intercept, \n",
    "                        backColor, fillColor, frame_type)\n",
    "        else:\n",
    "            render_west(dirname, frame_width, frame_height, sprite_width, sprite_height, slope, intercept, \n",
    "                        backColor, fillColor, frame_type)\n",
    "            direction = getMirrorDirection(direction)\n",
    "    else:\n",
    "        if (m == 0):\n",
    "            render_south(dirname, frame_width, frame_height, sprite_width, sprite_height, slope, intercept, \n",
    "                         backColor, fillColor, frame_type)\n",
    "        else:\n",
    "            render_north(dirname, frame_width, frame_height, sprite_width, sprite_height, slope, intercept, \n",
    "                         backColor, fillColor, frame_type)\n",
    "            \n",
    "            direction = getMirrorDirection(direction)\n",
    "            \n",
    "    #print (direction)\n",
    "    return direction"
   ]
  },
  {
   "cell_type": "markdown",
   "metadata": {},
   "source": [
    "### Generate the video file\n",
    "\n",
    "Use ffmpeg to generate the video file from the set of images "
   ]
  },
  {
   "cell_type": "code",
   "execution_count": 19,
   "metadata": {},
   "outputs": [],
   "source": [
    "def genVideo(dirname, videoFileName, fps, frame_width, frame_height, sprite_width, sprite_height, frameType):\n",
    "    global FFMPEG_BIN\n",
    "    \n",
    "    if not os.path.isfile(videoFileName):\n",
    "        direction = genFrames(dirname, frame_width, frame_height, sprite_width, sprite_height, frameType)\n",
    "        command = [ FFMPEG_BIN,\n",
    "            '-r', str(fps),\n",
    "            '-i', dirname + '%d.png',\n",
    "            '-c:v', 'libx264',\n",
    "            videoFileName ]\n",
    "        \n",
    "        \n",
    "        try:\n",
    "            sp.check_call(command)\n",
    "        except sp.CalledProcessError as e:\n",
    "            print(\"ERROR for ffmpeg: {reason}\".format(reason=e))\n",
    "            exit(-1)\n",
    "        except OSError as e:\n",
    "            print(\"OSERROR for ffmpeg: {reason}\".format(reason=e))\n",
    "            exit(-1)                \n",
    "        \n",
    "        if os.path.isfile(videoFileName):\n",
    "            filelist = [ f for f in os.listdir(dirname) if f.endswith(\".png\") ]\n",
    "            for f in filelist:                \n",
    "                os.remove(os.path.join(dirname, f))\n",
    "        else:\n",
    "            print('Video was not generated')\n",
    "    else:\n",
    "        print('Video ' + videoFileName + ' already exists')\n",
    "        \n",
    "    return direction"
   ]
  },
  {
   "cell_type": "markdown",
   "metadata": {},
   "source": [
    "### Generate list of videos\n",
    "\n",
    "Generate a list of videos with motion in different directions"
   ]
  },
  {
   "cell_type": "code",
   "execution_count": 20,
   "metadata": {},
   "outputs": [],
   "source": [
    "def genVideoList(temp_dirname, video_dirname, index_filename, fps, frame_width, frame_height, \n",
    "                 sprite_width, sprite_height, frameType, numVideos, start_idx, print_frequency = 1000):\n",
    "    \n",
    "    f = open(index_filename, \"a+\")\n",
    "    \n",
    "    for i in range(start_idx, numVideos + start_idx):\n",
    "        if ((i % print_frequency) == 0):\n",
    "            print(\"Generating video \" + str(i))\n",
    "        \n",
    "        videoFileName = video_dirname + str(i) + \".mp4\"\n",
    "        direction = genVideo(temp_dirname, videoFileName, fps, frame_width, frame_height, sprite_width, sprite_height, \n",
    "                             frameType)\n",
    "        \n",
    "        f.write(videoFileName + \"\\t\" + str(direction) + \"\\n\")\n",
    "        \n",
    "    print(\"Generating video list done\")\n",
    "    \n",
    "    f.close()    "
   ]
  },
  {
   "cell_type": "code",
   "execution_count": 21,
   "metadata": {
    "scrolled": true
   },
   "outputs": [
    {
     "name": "stdout",
     "output_type": "stream",
     "text": [
      "Generating video 0\n",
      "Generating video 1000\n",
      "Generating video 2000\n",
      "Generating video 3000\n",
      "Generating video 4000\n",
      "Generating video 5000\n",
      "Generating video 6000\n",
      "Generating video 7000\n",
      "Generating video 8000\n",
      "Generating video 9000\n",
      "Generating video 10000\n",
      "Generating video 11000\n",
      "Generating video 12000\n",
      "Generating video 13000\n",
      "Generating video 14000\n",
      "Generating video 15000\n",
      "Generating video 16000\n",
      "Generating video 17000\n",
      "Generating video 18000\n",
      "Generating video 19000\n",
      "Generating video 20000\n",
      "Generating video 21000\n",
      "Generating video 22000\n",
      "Generating video 23000\n",
      "Generating video 24000\n",
      "Generating video 25000\n",
      "Generating video 26000\n",
      "Generating video 27000\n",
      "Generating video 28000\n",
      "Generating video 29000\n",
      "Generating video 30000\n",
      "Generating video 31000\n",
      "Generating video 32000\n",
      "Generating video 33000\n",
      "Generating video 34000\n",
      "Generating video 35000\n",
      "Generating video 36000\n",
      "Generating video 37000\n",
      "Generating video 38000\n",
      "Generating video 39000\n",
      "Generating video list done\n",
      "Generating video 0\n",
      "Generating video 1000\n",
      "Generating video 2000\n",
      "Generating video 3000\n",
      "Generating video 4000\n",
      "Generating video 5000\n",
      "Generating video 6000\n",
      "Generating video 7000\n",
      "Generating video list done\n"
     ]
    }
   ],
   "source": [
    "genVideoList(\"./temp/\", \"./train-mono-motion-dataset/\", \"./train-mono-motion.txt\", 30, FRAME_WIDTH, FRAME_HEIGHT, \n",
    "             SPRITE_WIDTH, SPRITE_HEIGHT, \"BW\", 40000, 0)\n",
    "genVideoList(\"./temp/\", \"./test-mono-motion-dataset/\", \"./test-mono-motion.txt\", 30, FRAME_WIDTH, FRAME_HEIGHT, \n",
    "             SPRITE_WIDTH, SPRITE_HEIGHT, \"BW\", 8000, 0)"
   ]
  },
  {
   "cell_type": "code",
   "execution_count": null,
   "metadata": {},
   "outputs": [],
   "source": [
    "genVideoList(\"./temp/\", \"./train-rgb-motion-dataset/\", \"./train-rgb-motion.txt\", 30, 600, 600, \n",
    "             50, 50, \"RGB\", 1, 0)"
   ]
  },
  {
   "cell_type": "markdown",
   "metadata": {
    "collapsed": true
   },
   "source": [
    "## Scratch functions"
   ]
  },
  {
   "cell_type": "code",
   "execution_count": null,
   "metadata": {
    "scrolled": true
   },
   "outputs": [],
   "source": [
    "f = open(\"./videoindex.txt\", \"r\")\n",
    "lines = f.readlines()\n",
    "for x in lines:\n",
    "    print(x.split(' '))\n",
    "    \n",
    "f.close()"
   ]
  },
  {
   "cell_type": "code",
   "execution_count": null,
   "metadata": {},
   "outputs": [],
   "source": [
    "def genVideoFrames(dirname, direction, frame_width, frame_height, sprite_width, sprite_height, frameType):\n",
    "    if not os.path.exists(dirname):\n",
    "        os.makedirs(dirname)\n",
    "           \n",
    "    sprite_height = randint(10, sprite_height)\n",
    "    sprite_width = sprite_height \n",
    "\n",
    "    if ((frameType == \"BW\") or (frameType == \"GS\")):        \n",
    "        frame_type = 'L'\n",
    "    else:\n",
    "        frame_type = 'RGB'\n",
    "        \n",
    "    backColor = 0\n",
    "    fillColor = 0       \n",
    "\n",
    "    if (frameType == \"RGB\"):\n",
    "        backColor, fillColor = genColorsForRGBImage()\n",
    "    elif (frameType == \"BW\"):\n",
    "        backColor, fillColor = genColorsForBWImage()\n",
    "    elif (frameType == \"GS\"):\n",
    "        backColor, fillColor = genColorsForGrayscaleImage()    \n",
    "                    \n",
    "    if ((direction == EAST) or (direction == WEST)):\n",
    "        slope = randfloat(math.tan(-math.pi/8), math.tan(math.pi/8))\n",
    "    elif ((direction == SOUTH_EAST) or (direction == NORTH_WEST)):\n",
    "        slope = randfloat(math.tan(math.pi/8), math.tan(3 * math.pi/8))\n",
    "    elif (direction == NORTH_EAST):\n",
    "        slope = randfloat(math.tan(-math.pi/4), math.tan(-math.pi/8))\n",
    "    elif (direction == SOUTH_WEST):\n",
    "        slope = randfloat(math.tan(-3*math.pi/8), math.tan(-math.pi/4))\n",
    "    elif ((direction == SOUTH) or (direction == NORTH)):\n",
    "        slope = randfloat(math.tan(3*math.pi/8), math.tan(5*math.pi/8))\n",
    "    \n",
    "        \n",
    "        x1 = 0\n",
    "        y1 = randint(0, frame_height - sprite_height) \n",
    "        x2 = sprite_width\n",
    "        y2 = y1 + sprite_height \n",
    "\n",
    "        endpoint_x = frame_width - sprite_width\n",
    "        endpoint_y = randint(0, frame_height - sprite_height)\n",
    "    else:\n",
    "        y1 = 0\n",
    "        x1 = randint(0, frame_width - sprite_width)\n",
    "        y2 = sprite_height\n",
    "        x2 = x1 + sprite_height\n",
    "        \n",
    "        endpoint_y = frame_height - sprite_height\n",
    "        endpoint_x = randint(0, frame_width - sprite_width)\n",
    "        \n",
    "        if (x1 == endpoint_x):\n",
    "            endpoint_x = endpoint_x + 1\n",
    "        \n",
    "        \n",
    "    #Calculate slope and intercept for the sprite motion \n",
    "    slope = (y1 - endpoint_y)/(x1 - endpoint_x)    \n",
    "    intercept = y1 - x1 * slope        "
   ]
  }
 ],
 "metadata": {
  "anaconda-cloud": {},
  "kernelspec": {
   "display_name": "Python 3",
   "language": "python",
   "name": "python3"
  },
  "language_info": {
   "codemirror_mode": {
    "name": "ipython",
    "version": 3
   },
   "file_extension": ".py",
   "mimetype": "text/x-python",
   "name": "python",
   "nbconvert_exporter": "python",
   "pygments_lexer": "ipython3",
   "version": "3.6.4"
  }
 },
 "nbformat": 4,
 "nbformat_minor": 1
}
